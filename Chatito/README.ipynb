{
 "cells": [
  {
   "cell_type": "markdown",
   "metadata": {},
   "source": [
    "# Chatito\n",
    "\n",
    "- Used to generate text data for training NLU model\n",
    "- Creates variations of sentences\n",
    "\n",
    "### NPM package\n",
    "\n",
    "- Chatito supports Node.js >= v8.11.\n",
    "\n",
    "- Install it with yarn or npm:\n",
    "\n",
    "```python\n",
    "npm i chatito --save\n",
    "```\n",
    "\n",
    "- Then create a definition file (e.g.: greetings.chatito) with your code.\n",
    "\n",
    "- Run the npm generator:\n",
    "\n",
    "```python\n",
    "npx chatito trainClimateBot.chatito\n",
    "```\n",
    "\n",
    "### It creates a json files with intents and corresponding varaitions of text"
   ]
  }
 ],
 "metadata": {
  "kernelspec": {
   "display_name": "Python 3",
   "language": "python",
   "name": "python3"
  },
  "language_info": {
   "codemirror_mode": {
    "name": "ipython",
    "version": 3
   },
   "file_extension": ".py",
   "mimetype": "text/x-python",
   "name": "python",
   "nbconvert_exporter": "python",
   "pygments_lexer": "ipython3",
   "version": "3.7.3"
  }
 },
 "nbformat": 4,
 "nbformat_minor": 2
}
